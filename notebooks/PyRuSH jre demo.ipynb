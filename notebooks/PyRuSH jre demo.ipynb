{
 "cells": [
  {
   "cell_type": "code",
   "execution_count": 1,
   "outputs": [
    {
     "name": "stdout",
     "output_type": "stream",
     "text": [
      "/Users/u0876964/Projects/DataspellProjects/PyRuSH\n"
     ]
    }
   ],
   "source": [
    "%cd .."
   ],
   "metadata": {
    "collapsed": false
   }
  },
  {
   "cell_type": "code",
   "execution_count": 2,
   "outputs": [],
   "source": [
    "text='''\n",
    "S/p C6-7 ACDF. No urgent events overnight.\\n\\n\\n\\n there 6 is control ON.\n",
    "'''"
   ],
   "metadata": {
    "collapsed": false
   }
  },
  {
   "cell_type": "code",
   "execution_count": 43,
   "outputs": [
    {
     "name": "stdout",
     "output_type": "stream",
     "text": [
      "0\n"
     ]
    }
   ],
   "source": [
    "from PyRuSH import RuSH\n",
    "rush = RuSH('conf/rush_rules.tsv', enable_logger=True)"
   ],
   "metadata": {
    "collapsed": false
   }
  },
  {
   "cell_type": "code",
   "execution_count": 34,
   "outputs": [],
   "source": [
    "input_str = ''' •  Coagulopathy (HCC)   \n",
    "\n",
    "\n",
    "\n",
    " •  Hepatic encephalopathy (HCC)   \n",
    "\n",
    "\n",
    "\n",
    " •  Hepatorenal syndrome (HCC)   \n",
    "\n",
    "'''\n",
    "sentences =rush.segToSentenceSpans(input_str)"
   ],
   "metadata": {
    "collapsed": false
   }
  },
  {
   "cell_type": "code",
   "execution_count": 36,
   "outputs": [
    {
     "data": {
      "text/plain": "[<PyFastNER.IOUtils.Span(4:22, \"\",-1,1.0),\n <PyFastNER.IOUtils.Span(30:61, \"\",-1,1.0),\n <PyFastNER.IOUtils.Span(69:98, \"\",-1,1.0)]"
     },
     "execution_count": 36,
     "metadata": {},
     "output_type": "execute_result"
    }
   ],
   "source": [
    "sentences"
   ],
   "metadata": {
    "collapsed": false
   }
  },
  {
   "cell_type": "code",
   "execution_count": 35,
   "outputs": [
    {
     "name": "stdout",
     "output_type": "stream",
     "text": [
      ">Coagulopathy (HCC)<\n",
      ">•  Hepatic encephalopathy (HCC)<\n",
      ">•  Hepatorenal syndrome (HCC)<\n"
     ]
    }
   ],
   "source": [
    "print('\\n'.join(['>{}<'.format(input_str[s.begin:s.end]) for s in sentences]))"
   ],
   "metadata": {
    "collapsed": false
   }
  },
  {
   "cell_type": "code",
   "execution_count": 26,
   "outputs": [],
   "source": [
    "assert (sentences[0].begin == 1 and sentences[0].end == 22)\n",
    "assert (sentences[1].begin == 31 and sentences[1].end == 62)\n",
    "assert (sentences[2].begin == 71 and sentences[2].end == 100)"
   ],
   "metadata": {
    "collapsed": false
   }
  },
  {
   "cell_type": "code",
   "execution_count": 44,
   "outputs": [],
   "source": [
    "input_str = \"The patient complained about the TIA \\n\\n No memory issues. \\\"I \\n\\nOrdered the MRI scan.- \"\n",
    "sentences = rush.segToSentenceSpans(input_str)"
   ],
   "metadata": {
    "collapsed": false
   }
  },
  {
   "cell_type": "code",
   "execution_count": 45,
   "outputs": [
    {
     "data": {
      "text/plain": "[<PyFastNER.IOUtils.Span(0:36, \"\",-1,1.0),\n <PyFastNER.IOUtils.Span(39:57, \"\",-1,1.0),\n <PyFastNER.IOUtils.Span(58:85, \"\",-1,1.0)]"
     },
     "execution_count": 45,
     "metadata": {},
     "output_type": "execute_result"
    }
   ],
   "source": [
    "sentences"
   ],
   "metadata": {
    "collapsed": false
   }
  },
  {
   "cell_type": "code",
   "execution_count": 46,
   "outputs": [],
   "source": [
    " from distutils.spawn import find_executable"
   ],
   "metadata": {
    "collapsed": false
   }
  },
  {
   "cell_type": "code",
   "execution_count": 51,
   "outputs": [
    {
     "data": {
      "text/plain": "False"
     },
     "execution_count": 51,
     "metadata": {},
     "output_type": "execute_result"
    }
   ],
   "source": [
    "find_executable('maven')=="
   ],
   "metadata": {
    "collapsed": false
   }
  },
  {
   "cell_type": "code",
   "execution_count": null,
   "outputs": [],
   "source": [],
   "metadata": {
    "collapsed": false
   }
  }
 ],
 "metadata": {
  "kernelspec": {
   "display_name": "Python 3",
   "language": "python",
   "name": "python3"
  },
  "language_info": {
   "codemirror_mode": {
    "name": "ipython",
    "version": 2
   },
   "file_extension": ".py",
   "mimetype": "text/x-python",
   "name": "python",
   "nbconvert_exporter": "python",
   "pygments_lexer": "ipython2",
   "version": "2.7.6"
  }
 },
 "nbformat": 4,
 "nbformat_minor": 0
}
